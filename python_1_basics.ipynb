{
 "cells": [
  {
   "cell_type": "markdown",
   "metadata": {},
   "source": [
    "![image.png](plots/portada2.png)"
   ]
  },
  {
   "cell_type": "markdown",
   "metadata": {},
   "source": [
    "¡Bienvenidos a la primera sesión de este curso de introducción a Python!  Este curso se divide en 4 sesiones:\n",
    "\n",
    "* En la primera sesión (esta) veremos los conceptos básicos de programación en Python: cómo instalarlo, tipos de variables, cómo hacer bucles y definir funciones...\n",
    "* En la segunda sesión veremos cómo trabajar con el paquete de análisis matricial `NumPy`. Cómo crear vectores, matrices, cómo operar con ellos...\n",
    "* En la tercera sesión veremos cómo hacer representaciones gráficas con matplotlib. Lineplots, scatterplots, boxplots, histogramas, barplots...\n",
    "* En la cuarta (y última) sesión veremos cómo trabajar con el paquete `pandas` para trabajar con bases de datos, y sentaremos las bases para llevar a cabo analisis exploratorios de datos (EDA's en inglés) utilizando pandas y matplotlib\n",
    "* El curso termina con una última libreta de Jupyter notebook en la que descargaremos una base de datos con información socioeconómica sobre los pasajeros del barco titanic, y en la que se plantearán preguntas que podrán ser respondias usando las técnicas vistas en las libretas anteriores. Esta última libreta está pensada como un ejercicio final, por lo que tiene la versión de ejercicios y la versión de soluciones (con las preguntas resueltas).\n",
    "\n",
    "Así que... ¡Empecemos!\n",
    "\n",
    "Python es un lenguaje de programación creado en 1991 por Guido Van Rossum, un informático que le dio el nombre en honor de (seguro que ya lo habréis adivinado) los cómicos _Monty Python_. Es un lenguaje que se centra en la facilidad de lectura, y que es muy versátil. Tiene una gran comunidad de usuarios y cientos de librerías disponibles. Si quereis hacer algún analisis de datos en Python, lo más probable es que ya exista un paquete que permita hacerlo. Python es uno de los lenguajes de programación más usados en el mundo, y es (junto con R) el más usado en análisis de datos.\n",
    "\n",
    "En esta primera sesión veremos:\n",
    "\n",
    "* Cómo trabajar con python (usando un IDE tradicional, jupyter-lab o google colab).\n",
    "* La sintaxis de python para escribir código (y porqué es tan facil de leer).\n",
    "* Los tipos de objetos (variables, funciones... Todo en python es un objeto).\n",
    "* Cómo hacer bucles y definir funciones.\n",
    "\n",
    "A lo largo de estas sesiones utilizaremos dos libros como referencia. Ambos están disponibles de forma gratuita [aquí](https://jakevdp.github.io/pages/about.html):\n",
    "\n",
    "* A Whirlwind Tour of Python by Jake VanderPlas (O’Reilly). Copyright 2016 O’Reilly Media, Inc., 978-1-491-96465-1\n",
    "* The Python Data Science Handbook by Jake VanderPlas (O’Reilly). Copyright 2016 Jake VanderPlas, 978-1-491-91205-8.\n",
    "\n"
   ]
  },
  {
   "cell_type": "markdown",
   "metadata": {},
   "source": [
    "# Estructura del cuaderno\n",
    "___\n",
    "\n",
    "A lo largo de esta serie de cuadernos veremos los principales conceptos para trabajar en Python. Desde cómo instalar el propio lenguaje y las librerías extra que necesitemos hasta cómo usar `NumPy`, `pandas` y `matplotlib`, las tres librerías básicas para empezar en el campo del análisis de datos. Después de la explicación de algunos conceptos, encontraréis un texto marcado en rojo:\n",
    "\n",
    "### <font color='D12828'> Ejercicio: </font>\n",
    "\n",
    "Debajo del cual pondrá un ejercicio para que vosotros practiquéis los conceptos que acabemos de ver.\n"
   ]
  },
  {
   "cell_type": "markdown",
   "metadata": {},
   "source": [
    "# Instalación\n",
    "___\n",
    "\n",
    "Actualmente existen dos versiones de Python: la versión 2.x y la 3.x. El paso de la comunidad de Python de la versión 2 a la 3 ha sido muy lento, pero actualmente __la versión 3.x es la más utilizada__. La versión 2.x dejó de tener soporte oficial en enero de 2020, aunque las diferencias entre versiones son lo suficientemente pequeñas para que si se intenta ejecutar un código de la versión 2 teniendo la versión 3, lo más probable es que funcione bien salvo casos puntuales.\n",
    "\n",
    "Por otro lado, independientemente de la versión con la que se trabaje, es posible instalar Python de varias formas. Aunque se puede descargar desde la página web oficial, lo habitual (sobre todo si se pretende trabajar en análisis de datos) es __instalar la distribución de [Anaconda](https://www.anaconda.com/products/individual).__ Anaconda no es la única distribución de Python disponible, pero sí es una de las más descargadas. Es una distribución de código abierto y gratuita que incluye el propio Python, un gestor de paquetes `conda`, una IDE (interfaz de desarrollo) llamada `Spyder` y varias librerías de análisis de datos preinstaladas. También existe la posibilidad de hacer la instalación mínima de [Miniconda](https://docs.conda.io/en/latest/miniconda.html) que incluye Python y `conda` pero no `Spyder` ni las demás librerías.\n",
    "\n",
    "Una vez instalemos Anaconda, podremos abrir el Anaconda Navigator y acceder a una ventana como la que vemos en la imagen. Dependiendo del SO, cómo accedemos a ella puede variar:\n",
    "\n",
    "* __Windows__: En la barra de búsqueda, escribir Anaconda Navigator\n",
    "* __macOS__: Seleccionar el launchpad y seleccionar Anaconda Navigator\n",
    "* __Linux__: Ver la siguiente sección referente a conda"
   ]
  },
  {
   "cell_type": "markdown",
   "metadata": {},
   "source": [
    "![image.png](plots/anaconda_navigator2.png)"
   ]
  },
  {
   "cell_type": "markdown",
   "metadata": {},
   "source": [
    "Esta ventana nos da acceso a muchas herramientas de entre las que merece la pena mencionar:\n",
    "\n",
    "* __CMD.exe Prompt__: Esto nos da acceso al gestor de `conda` que veremos en detalle más adelante. Desde aquí podemos instalar paquetes de Python y crear entornos de trabajo.\n",
    "* __JupyterLab__:  Es una IDE que permite crear \"notebooks\" (o libretas) como esta en la que se mezcla de forma facil texto editado con Markdown, imágenes, y código de Python que puede ser ejecutado en la propia libreta. Es decir, permite crear documentos interactivos. JupyterLab es la versión más moderna de un proyecto que empezó llamandose Jupyter Notebook. Las libretas se pueden abrir usando cualquiera de las dos herramientas, pero JupyterLab incluye un gestor de archivos que hace que sea más cómodo trabajar con ella.\n",
    "* __PyCharm Community__: Es una de las IDEs de Python más utilizadas. La versión Community es gratuita e incluye muchas funciones extra como compatibilidad con Notebooks y con Git, además de gestores de errores etc.\n",
    "* __Spyder__: Es una IDE para python sencilla y facil de usar, multiplataforma e incluida en Anaconda.\n",
    "* __VS Code__: Es una de las IDEs más utilizadas en la actualidad. Gratuita y creada por Microsoft, permite trabajar en prácticamente cualquier lenguaje de programación, aunque su configuración inicial puede ser algo compleja."
   ]
  },
  {
   "cell_type": "markdown",
   "metadata": {},
   "source": [
    "### Alternativas para acceder a `conda`\n",
    "* __Windows__: En la barra de búsqueda escribir _Anaconda prompt_ / _miniconda prompt_ (dependiendo de la instalacióin)\n",
    "* __macOS__: Pulsar Cmd+espacio para abrir spotlight y escribir _Navigator_\n",
    "* __Linux__: En linux no hay una interfaz de linea de comandos de Anaconda dedicada, para usar `conda` simplemente se debe acceder al terminal de linux."
   ]
  },
  {
   "cell_type": "markdown",
   "metadata": {},
   "source": [
    "# Ejecutando código python\n",
    "___\n",
    "\n",
    "## iPython\n",
    "\n",
    "La forma más rápida de ejecutar código de Python es escribir en el Anaconda prompt o bien _python_ para acceder al python interpreter, o bien ipython, para acceder al interactive python interpreter. Este segundo es una versión mejorada del primero que incluye extras como  syntax highlighting, o code completion:"
   ]
  },
  {
   "cell_type": "raw",
   "metadata": {},
   "source": [
    "ipython\n",
    "\n",
    "Python 3.8.5 (default, Sep  3 2020, 21:29:08) [MSC v.1916 64 bit (AMD64)]\n",
    "Type 'copyright', 'credits' or 'license' for more information\n",
    "IPython 7.19.0 -- An enhanced Interactive Python. Type '?' for help.\n",
    "\n",
    "In [1]: 1+1\n",
    "Out[1]: 2\n",
    "\n",
    "In [2]: x=5"
   ]
  },
  {
   "cell_type": "markdown",
   "metadata": {},
   "source": [
    "### <font color='D12828'> Ejercicio: </font>\n",
    "\n",
    "* Abre el ipython interpreter y escribe: `print(\"Hello world\")` (como no)\n",
    "* Escribe `pr` y sin darle a enter, pulsa la tecla de tabulador. ¿Qué ocurre?\n"
   ]
  },
  {
   "cell_type": "markdown",
   "metadata": {},
   "source": [
    "## IDEs (como Spyder)"
   ]
  },
  {
   "cell_type": "markdown",
   "metadata": {},
   "source": [
    "![image.png](plots/spyder2.png)"
   ]
  },
  {
   "cell_type": "markdown",
   "metadata": {},
   "source": [
    "Spyder es una IDE fácil de manejar y que incluye los componentes típicos de estas herramientas:\n",
    "1. Editor de scripts.\n",
    "2. Acceso al working directory.\n",
    "3. Explorador de variables, acceso a la ayuda, y visualización de gráficos.\n",
    "4. Consola de ipython.\n",
    "\n",
    "### <font color='D12828'> Ejercicio: </font>\n",
    "* Crea la variable `x=[1,2,3]`. Busca la ayuda de la función `len` y usa esta función."
   ]
  },
  {
   "cell_type": "markdown",
   "metadata": {},
   "source": [
    "## Scripts\n",
    "\n",
    "También podemos ejecutar scripts enteros de Python sin usar la ventana interactiva de Ipython. Podemos hacerlo o bien desde una IDE (en Spyder seleccionaríamos el triangulo verde de la barra de herramientas) o bien desde el Anaconda prompt, donde deberíamos escribir: `python archivo.py`. Es importante que la ventana del anaconda prompt esté en la misma carpeta en la que está el archivo que queramos ejecutar.\n",
    "\n",
    "### <font color='D12828'> Ejercicio: </font>\n",
    "* Crea un script de Python con la siguiente linea de código: `print('Ejecutando script desde linea de comandos')` y guardalo. Ve al Anaconda prompt y ejecuta este archivo."
   ]
  },
  {
   "cell_type": "markdown",
   "metadata": {},
   "source": [
    "## Jupyter notebooks\n",
    "\n",
    "Para acceder a las jupyter notebooks, podemos abrir el launcher desde el Anaconda Navigator, o también podemos, desde el Anaconda prompt, escribir: `jupyter lab`.\n",
    "* Consejo: Por defecto, Jupyter Lab inicia el explorador de archivos en el disco C:/ pero desde Anaconda Prompt podemos elegir en qué carpeta se inicia con el comando: `jupyter lab --notebook-dir=D:/nueva_carpeta`.\n",
    "\n",
    "Desde el explorador de archivos podremos seleccionar y abrir una libreta o crear una nueva. En el resto de la sesión de introducción utilizaremos Jupyter ya que permitirá incluir explicaciones y ejercicios de forma dinámica."
   ]
  },
  {
   "cell_type": "markdown",
   "metadata": {},
   "source": [
    "## Google Colab\n",
    "\n",
    "(Esta es la última, os lo prometo). Si buscamos en google _Google Colab_ nos saldrá el [enlace](https://colab.research.google.com/) de acceso a esta herramienta. Para usarla solo necesitamos una cuenta de google, ya sea una cuenta personal, o la cuenta de estudiante de la UC3M. Google Colab permite crear notebooks como las de Jupyter, pero la diferencia entre ambas está en que mientras que las libretas de Jupyter se ejecutan de forma local, usando la distribución de Python que tengamos instalada, las de Google Colab se ejecutan en un ordenador por remoto que Google amablemente nos presta durante unas horas para que trabajemos y que tiene preinstaladas muchas librerías de análisis de datos."
   ]
  },
  {
   "cell_type": "markdown",
   "metadata": {},
   "source": [
    "# Sintaxis de Python\n",
    "___\n",
    "\n",
    "El siguiente código resume muy bien la sintaxis básica de Python:"
   ]
  },
  {
   "cell_type": "code",
   "execution_count": 1,
   "metadata": {},
   "outputs": [],
   "source": [
    "\"\"\"\n",
    "Script de ejemplo con \n",
    "un comentatio de dos lineas\n",
    "\"\"\"\n",
    "# Comentario 1\n",
    "midpoint = 5 # Comentarios en linea\n",
    "\n",
    "# Crear listas\n",
    "lower = []; upper = []\n",
    "\n",
    "# Bucle for y bucle if indentados\n",
    "for i in range(10):\n",
    "    if (i < midpoint):\n",
    "        lower.append(i)\n",
    "    else:\n",
    "        upper.append(i)\n",
    "print(\"lower:\", lower)\n",
    "print(\"upper:\", upper)\n",
    "\n",
    "# Operaciones en mas de una linea\n",
    "suma = 1 + 2 + 3 +\\\n",
    "4\n",
    "print(\"Suma:\", suma)"
   ]
  },
  {
   "cell_type": "markdown",
   "metadata": {},
   "source": [
    "### Comentarios\n",
    "* Aunque no son exactamente comentarios sino strings, usando la triple \"\"\" comilla podemos escribir mensajes de varias lineas"
   ]
  },
  {
   "cell_type": "code",
   "execution_count": 2,
   "metadata": {},
   "outputs": [
    {
     "data": {
      "text/plain": [
       "'\\nScript de ejemplo con \\nun comentatio de dos lineas\\n'"
      ]
     },
     "execution_count": 2,
     "metadata": {},
     "output_type": "execute_result"
    }
   ],
   "source": [
    "\"\"\"\n",
    "Script de ejemplo con \n",
    "un comentatio de dos lineas\n",
    "\"\"\""
   ]
  },
  {
   "cell_type": "markdown",
   "metadata": {},
   "source": [
    "* Los comentarios de una linea se escriben con #"
   ]
  },
  {
   "cell_type": "code",
   "execution_count": 3,
   "metadata": {},
   "outputs": [],
   "source": [
    "# Comentario 1\n",
    "midpoint = 5 # Comentarios en linea"
   ]
  },
  {
   "cell_type": "markdown",
   "metadata": {},
   "source": [
    "### Final de linea"
   ]
  },
  {
   "cell_type": "markdown",
   "metadata": {},
   "source": [
    "* No es necesario terminar las lineas con ';' ni nada similar. Fíjate que `midpoint=5` termina simplemente con un cambio de linea\n",
    "* Aunque si usamos ';' Python lo interpretará como que se inicia una operación, por eso podemos crear `lower` y `upper` seguidos"
   ]
  },
  {
   "cell_type": "code",
   "execution_count": 4,
   "metadata": {},
   "outputs": [],
   "source": [
    "lower = []; upper = []"
   ]
  },
  {
   "cell_type": "code",
   "execution_count": 5,
   "metadata": {},
   "outputs": [],
   "source": [
    "lower = []\n",
    "upper = []"
   ]
  },
  {
   "cell_type": "markdown",
   "metadata": {},
   "source": [
    "### __Importante__: La indentación es clave\n",
    "En otros lenguajes de programación, se usan llaves '{}' o cosas similares para difinir bloques de código. En Python eso lo indica la indentación. Por ejemplo:"
   ]
  },
  {
   "cell_type": "raw",
   "metadata": {},
   "source": [
    "# Bucle for en R:\n",
    "\n",
    "lower = c()\n",
    "for(i in 1:10) \n",
    "{\n",
    "  if(i < 5)\n",
    "  {\n",
    "    lower = c(lower, i)\n",
    "  }\n",
    "}"
   ]
  },
  {
   "cell_type": "code",
   "execution_count": 6,
   "metadata": {},
   "outputs": [],
   "source": [
    "# Mismo bucle en Python\n",
    "lower = []\n",
    "for i in range(10):\n",
    "    if i < midpoint:\n",
    "        lower.append(i)"
   ]
  },
  {
   "cell_type": "markdown",
   "metadata": {},
   "source": [
    "La cantidad de espacios que se usen para indentar da igual, aunque por convenio se utilizan 4 espacios (equivalentes a un tabulador)"
   ]
  },
  {
   "cell_type": "markdown",
   "metadata": {},
   "source": [
    "#### <font color='D12828'> Ejercicio: </font>\n",
    "* ¿Cuál es la diferencia entre los siguentes códigos de Python?"
   ]
  },
  {
   "cell_type": "raw",
   "metadata": {},
   "source": [
    "x = 5\n",
    "if x < 4:\n",
    "    y = x * 2\n",
    "    print('Bien')"
   ]
  },
  {
   "cell_type": "raw",
   "metadata": {},
   "source": [
    "x = 5\n",
    "if x < 4:\n",
    "    y = x * 2\n",
    "print('Bien')"
   ]
  },
  {
   "cell_type": "markdown",
   "metadata": {},
   "source": [
    "### Operaciones en mas de una linea"
   ]
  },
  {
   "cell_type": "markdown",
   "metadata": {},
   "source": [
    "Podemos dividir una operación en varias líneas utilizando \\"
   ]
  },
  {
   "cell_type": "code",
   "execution_count": 7,
   "metadata": {},
   "outputs": [],
   "source": [
    "suma = 1 + 2 + 3 +\\\n",
    "4 + 5"
   ]
  },
  {
   "cell_type": "markdown",
   "metadata": {},
   "source": [
    "# Variables y objetos\n",
    "___\n",
    "\n",
    "En Python no hace falta declarar el tipo de variable que definimos (por eso se dice que es dinámico, como otros lenguajes como R)"
   ]
  },
  {
   "cell_type": "code",
   "execution_count": 8,
   "metadata": {},
   "outputs": [],
   "source": [
    "x = 5  # x es un entero\n",
    "x = 'cinco'  # x es un string\n",
    "x = True  # x es un boolean"
   ]
  },
  {
   "cell_type": "markdown",
   "metadata": {},
   "source": [
    "## Las variables son punteros"
   ]
  },
  {
   "cell_type": "markdown",
   "metadata": {},
   "source": [
    "En Python, __las variables son punteros__. Eso quiere decir que cuando escribimos una variable `x=5` la variable no almacena el valor 5, sino que apunta al lugar donde se almacena esa información. Esto, que parece confuso, es muy importante, veamoslo con un ejemplo:"
   ]
  },
  {
   "cell_type": "code",
   "execution_count": 9,
   "metadata": {},
   "outputs": [],
   "source": [
    "x = [1,2,3]\n",
    "y = x"
   ]
  },
  {
   "cell_type": "markdown",
   "metadata": {},
   "source": [
    "Las variables `x` e `y` __apuntan__ ambas al mismo objeto, [1,2,3]. Si ahora cambiamos el valor del objeto, también cambia el valor de las dos variables:"
   ]
  },
  {
   "cell_type": "code",
   "execution_count": 10,
   "metadata": {},
   "outputs": [
    {
     "name": "stdout",
     "output_type": "stream",
     "text": [
      "x = [1, 2, 3, 100]\n",
      "y = [1, 2, 3, 100]\n"
     ]
    }
   ],
   "source": [
    "x.append(100)  # Añado el elemento '100' a la lista x\n",
    "print(\"x =\", x)\n",
    "print(\"y =\", y)"
   ]
  },
  {
   "cell_type": "markdown",
   "metadata": {},
   "source": [
    "Esto puede parecer contraintuitivo si lo comparamos con el comportamiento de lenguajes como C o R, donde las variables _almacenan_ el valor, pero tiene sentido sabiendo que en Python _son punteros_. Si lo que queremos crear es una _copia_ de x, podemos usar:"
   ]
  },
  {
   "cell_type": "code",
   "execution_count": 11,
   "metadata": {},
   "outputs": [
    {
     "name": "stdout",
     "output_type": "stream",
     "text": [
      "x = [1, 2, 3, 100, 120]\n",
      "y = [1, 2, 3, 100]\n"
     ]
    }
   ],
   "source": [
    "y = x.copy()\n",
    "x.append(120)  # Añado el elemento '120' a la lista x\n",
    "print(\"x =\", x)\n",
    "print(\"y =\", y)"
   ]
  },
  {
   "cell_type": "markdown",
   "metadata": {},
   "source": [
    "Alguien puede preguntarse si esto afecta a operaciones aritméticas básicas. La respuesta es que no, ya que distinguimos entre variables que son __inmutables__ de las que son __mutables__:\n",
    "\n",
    "* Los números, strings, booleans y tuples (que veremos más adelante) son inmutables. Eso quiere decir que no se puede cambiar su valor, solo cambia el sitio al que apuntan. Eso permite hacer cosas como:\n",
    "\n"
   ]
  },
  {
   "cell_type": "code",
   "execution_count": 12,
   "metadata": {},
   "outputs": [
    {
     "name": "stdout",
     "output_type": "stream",
     "text": [
      "x = 15\n",
      "y = 10\n"
     ]
    }
   ],
   "source": [
    "x = 10\n",
    "y = x\n",
    "x = x + 5  # add 5 to x's value, and assign it to x\n",
    "print(\"x =\", x)\n",
    "print(\"y =\", y)"
   ]
  },
  {
   "cell_type": "markdown",
   "metadata": {},
   "source": [
    "* Las demás variables (como la lista del ejemplo `x=[1,2,3]`) son mutables"
   ]
  },
  {
   "cell_type": "markdown",
   "metadata": {},
   "source": [
    "#### <font color='D12828'> Ejercicio: </font>\n",
    "* ¿Cual es el valor de x después de los siguientes códigos?"
   ]
  },
  {
   "cell_type": "code",
   "execution_count": 13,
   "metadata": {},
   "outputs": [],
   "source": [
    "x = [1, 10, 100]\n",
    "y = x\n",
    "y.append(0)"
   ]
  },
  {
   "cell_type": "code",
   "execution_count": 14,
   "metadata": {},
   "outputs": [],
   "source": [
    "y = [1, 10, 100]\n",
    "x = y\n",
    "y = 5"
   ]
  },
  {
   "cell_type": "markdown",
   "metadata": {},
   "source": [
    "## Todo es un objeto en Python\n",
    "En programación, un objeto es algo que tiene unos atributos (metadatos con información extra) y/o unos methods (o funciones, llamarlos métodos me suena raro). En Python, todo son objetos, y para acceder a los atributos, o a los methods, se usa la notación del punto:"
   ]
  },
  {
   "cell_type": "code",
   "execution_count": 15,
   "metadata": {},
   "outputs": [
    {
     "data": {
      "text/plain": [
       "5.1"
      ]
     },
     "execution_count": 15,
     "metadata": {},
     "output_type": "execute_result"
    }
   ],
   "source": [
    "x = 5.1 + 2j\n",
    "x.real  # Este es un atributo que devuelve la parte real de un número"
   ]
  },
  {
   "cell_type": "code",
   "execution_count": 16,
   "metadata": {},
   "outputs": [
    {
     "data": {
      "text/plain": [
       "False"
      ]
     },
     "execution_count": 16,
     "metadata": {},
     "output_type": "execute_result"
    }
   ],
   "source": [
    "x = 5.2\n",
    "x.is_integer()  # Este es un method que comprueba si el número es entero o no"
   ]
  },
  {
   "cell_type": "markdown",
   "metadata": {},
   "source": [
    "Es importante observar que en los atributos no se necesita usar parentesis, pero en los métodos si, ya que al ser funciones pueden necesitar parámetros adicionales que se incluirían dentro de los parentesis. \n",
    "\n",
    "Y cuando decimos que todo son objetos es que _todo_ son objetos, hasta los methods de un objeto son objetos. Por ejemplo, podemos acceder al atributo \"tipo\" del method anterior:"
   ]
  },
  {
   "cell_type": "code",
   "execution_count": 17,
   "metadata": {},
   "outputs": [
    {
     "data": {
      "text/plain": [
       "builtin_function_or_method"
      ]
     },
     "execution_count": 17,
     "metadata": {},
     "output_type": "execute_result"
    }
   ],
   "source": [
    "type(x.is_integer)"
   ]
  },
  {
   "cell_type": "markdown",
   "metadata": {},
   "source": [
    "Para acceder a la lista completa de atributos y methods de un objeto podemos usar la función `dir(objeto)`"
   ]
  },
  {
   "cell_type": "markdown",
   "metadata": {},
   "source": [
    "#### <font color='D12828'> Ejercicio: </font>\n",
    "* Crea una lista con números y usa el method `.pop()`. ¿Cual es el resultado?"
   ]
  },
  {
   "cell_type": "code",
   "execution_count": 18,
   "metadata": {},
   "outputs": [],
   "source": [
    "# Ejercicio\n"
   ]
  },
  {
   "cell_type": "markdown",
   "metadata": {},
   "source": [
    "# Operaciones con variables\n",
    "___\n",
    "Hagamos un repaso de lo más importante:\n",
    "## Operaciones aritméticas\n",
    "Si obviamos las operaciones básicas (+ para suma, - para resta, * para multiplicación), merece la pena destacar:"
   ]
  },
  {
   "cell_type": "code",
   "execution_count": 19,
   "metadata": {},
   "outputs": [
    {
     "data": {
      "text/plain": [
       "1"
      ]
     },
     "execution_count": 19,
     "metadata": {},
     "output_type": "execute_result"
    }
   ],
   "source": [
    "x = 1\n",
    "y = 2\n",
    "\n",
    "x / y   # División\n",
    "x // y  # División entera (eliminando la parte decimal)\n",
    "x ** y  # Exponenciación\n",
    "x % y   # Módulo"
   ]
  },
  {
   "cell_type": "markdown",
   "metadata": {},
   "source": [
    "Destaca la diferencia entre la división y la división entera:"
   ]
  },
  {
   "cell_type": "code",
   "execution_count": 20,
   "metadata": {},
   "outputs": [
    {
     "name": "stdout",
     "output_type": "stream",
     "text": [
      "Esto es división : 4/3 = 1.3333333333333333\n",
      "Esto es división entera: 4//3 = 1\n"
     ]
    }
   ],
   "source": [
    "print('Esto es división : 4/3 =', 4/3)\n",
    "print('Esto es división entera: 4//3 =', 4//3)"
   ]
  },
  {
   "cell_type": "markdown",
   "metadata": {},
   "source": [
    "Este es el comportamiento en Python 3.x pero en Python 2.x la división `/` era división entera para números enteros, y división normal para números con coma flotante."
   ]
  },
  {
   "cell_type": "code",
   "execution_count": 21,
   "metadata": {},
   "outputs": [],
   "source": [
    "# Hueco para hacer operaciones\n"
   ]
  },
  {
   "cell_type": "markdown",
   "metadata": {},
   "source": [
    "## Operaciones con Booleanos\n",
    "Trabajar con booleanos en Python es muy intuitivo ya que incluye las funciones `and`, `or` y `not`"
   ]
  },
  {
   "cell_type": "code",
   "execution_count": 22,
   "metadata": {},
   "outputs": [
    {
     "data": {
      "text/plain": [
       "True"
      ]
     },
     "execution_count": 22,
     "metadata": {},
     "output_type": "execute_result"
    }
   ],
   "source": [
    "x = 5\n",
    "y = 1\n",
    "\n",
    "(x > 4) and (y > 0)"
   ]
  },
  {
   "cell_type": "code",
   "execution_count": 23,
   "metadata": {},
   "outputs": [
    {
     "data": {
      "text/plain": [
       "False"
      ]
     },
     "execution_count": 23,
     "metadata": {},
     "output_type": "execute_result"
    }
   ],
   "source": [
    "(x < 4) or (y < 0)"
   ]
  },
  {
   "cell_type": "code",
   "execution_count": 24,
   "metadata": {},
   "outputs": [
    {
     "data": {
      "text/plain": [
       "False"
      ]
     },
     "execution_count": 24,
     "metadata": {},
     "output_type": "execute_result"
    }
   ],
   "source": [
    "not (x > 4)"
   ]
  },
  {
   "cell_type": "markdown",
   "metadata": {},
   "source": [
    "## Operaciones de identidad\n",
    "\n",
    "Para comprobar la pertenencia y la identidad, Python incluye las funciones `is` y `in`:"
   ]
  },
  {
   "cell_type": "code",
   "execution_count": 25,
   "metadata": {},
   "outputs": [
    {
     "data": {
      "text/plain": [
       "True"
      ]
     },
     "execution_count": 25,
     "metadata": {},
     "output_type": "execute_result"
    }
   ],
   "source": [
    "a = 1\n",
    "b = [1,2,3]\n",
    "a in b"
   ]
  },
  {
   "cell_type": "code",
   "execution_count": 26,
   "metadata": {},
   "outputs": [
    {
     "data": {
      "text/plain": [
       "False"
      ]
     },
     "execution_count": 26,
     "metadata": {},
     "output_type": "execute_result"
    }
   ],
   "source": [
    "a not in b"
   ]
  },
  {
   "cell_type": "markdown",
   "metadata": {},
   "source": [
    "#### <font color='D12828'> Ejercicio: </font>\n",
    "* Dadas dos variables cualesquiera, ¿cual es la diferencia entre `a==b` y `a is b`? Pruebalo en el siguiente ejemplo:"
   ]
  },
  {
   "cell_type": "code",
   "execution_count": 27,
   "metadata": {},
   "outputs": [],
   "source": [
    "a = [1,2,3]\n",
    "b = [1,2,3]\n",
    "# Comprobar el ejercicio\n"
   ]
  },
  {
   "cell_type": "code",
   "execution_count": 28,
   "metadata": {},
   "outputs": [],
   "source": [
    "a = [1,2,3]\n",
    "b = a\n",
    "# Comprobar el ejercicio\n"
   ]
  },
  {
   "cell_type": "markdown",
   "metadata": {},
   "source": [
    "## Precisión de la coma flotante\n",
    "Como en otros lenguajes de programación, debemos recordar que la precisión en las operaciones aritméticas es limitada, lo que afecta a las operaciones con igualdad estricta. Veamoslo con un ejemplo:"
   ]
  },
  {
   "cell_type": "code",
   "execution_count": 29,
   "metadata": {},
   "outputs": [
    {
     "data": {
      "text/plain": [
       "False"
      ]
     },
     "execution_count": 29,
     "metadata": {},
     "output_type": "execute_result"
    }
   ],
   "source": [
    "0.1 + 0.2 == 0.3  # No son exactamente iguales"
   ]
  },
  {
   "cell_type": "code",
   "execution_count": 30,
   "metadata": {},
   "outputs": [
    {
     "data": {
      "text/plain": [
       "True"
      ]
     },
     "execution_count": 30,
     "metadata": {},
     "output_type": "execute_result"
    }
   ],
   "source": [
    "abs(0.1 + 0.2 -0.3) < 1e-16  # Pero la diferencia es más pequeña que 1e-20"
   ]
  },
  {
   "cell_type": "markdown",
   "metadata": {},
   "source": [
    "# Tipos de variables\n",
    "___\n",
    "\n",
    "En Python tenemos los tipos básicos de variables (números enteros, con coma flotante, booleanos, tipo `None` y strings). De estos solo veremos más adelante los strings, ya que trabajar con ellos en Python es muy cómodo. Pero además tenemos otros tipos de variables más complejos:\n",
    "\n",
    "* `list`: Colección ordenada y __mutable__ de datos.\n",
    "* `tuple`: Colección ordenada e __inmutable__ de datos.\n",
    "* `set`: Colección no ordenada de elementos únicos.\n",
    "* `dict`: Lista no ordenada de pares clave-valor.\n"
   ]
  },
  {
   "cell_type": "markdown",
   "metadata": {},
   "source": [
    "## Listas \n",
    "Para crear una lista se utilizan los corchetes `[]`, y una lista es un conjunto ordenado y mutable de datos. De cualquier tipo de dato (números, textos, otras listas, funciones...)\n",
    "\n",
    "* El que sea mutable quiere decir que una vez creado podemos modificarlo para añadir, eliminar o modificar elementos de la lista\n",
    "* El que esté ordenado quiere decir que está indexado por lo que podemos acceder a los elementos por su indice. __En Python el indice empieza en 0__"
   ]
  },
  {
   "cell_type": "code",
   "execution_count": 31,
   "metadata": {},
   "outputs": [
    {
     "data": {
      "text/plain": [
       "20"
      ]
     },
     "execution_count": 31,
     "metadata": {},
     "output_type": "execute_result"
    }
   ],
   "source": [
    "x = [10, 20, True, 'cuatro', ['otra', 'lista', 'dentro'], sum]\n",
    "x[1]  # El índice empieza en 0"
   ]
  },
  {
   "cell_type": "code",
   "execution_count": 32,
   "metadata": {},
   "outputs": [
    {
     "data": {
      "text/plain": [
       "6"
      ]
     },
     "execution_count": 32,
     "metadata": {},
     "output_type": "execute_result"
    }
   ],
   "source": [
    "len(x)  # Devuelve el número de elementos"
   ]
  },
  {
   "cell_type": "markdown",
   "metadata": {},
   "source": [
    "* Si usamos un número negativo en el índice, nos devolverá esa posición en la lista empezando por el final. Por ejemplo:"
   ]
  },
  {
   "cell_type": "code",
   "execution_count": 33,
   "metadata": {},
   "outputs": [
    {
     "data": {
      "text/plain": [
       "['otra', 'lista', 'dentro']"
      ]
     },
     "execution_count": 33,
     "metadata": {},
     "output_type": "execute_result"
    }
   ],
   "source": [
    "x[-2]  # Devuelve el segundo elemento por el final"
   ]
  },
  {
   "cell_type": "markdown",
   "metadata": {},
   "source": [
    "* Sumar listas las concatena:"
   ]
  },
  {
   "cell_type": "code",
   "execution_count": 34,
   "metadata": {},
   "outputs": [
    {
     "data": {
      "text/plain": [
       "[1, 3, 4, 6, 7, 8]"
      ]
     },
     "execution_count": 34,
     "metadata": {},
     "output_type": "execute_result"
    }
   ],
   "source": [
    "[1, 2, 3] + ['cuatro', 'cinco']\n",
    "[1,3,4] + [6,7,8]"
   ]
  },
  {
   "cell_type": "markdown",
   "metadata": {},
   "source": [
    "Y multiplicarlas las repite"
   ]
  },
  {
   "cell_type": "code",
   "execution_count": 35,
   "metadata": {},
   "outputs": [
    {
     "data": {
      "text/plain": [
       "[1, 2, 3, 1, 2, 3, 1, 2, 3]"
      ]
     },
     "execution_count": 35,
     "metadata": {},
     "output_type": "execute_result"
    }
   ],
   "source": [
    "[1, 2, 3] * 3"
   ]
  },
  {
   "cell_type": "markdown",
   "metadata": {},
   "source": [
    "* Para extraer una sublista se indica la primera posición (incluida), y la última posición (no incluida), separadas por `:`\n",
    "  "
   ]
  },
  {
   "cell_type": "code",
   "execution_count": 36,
   "metadata": {},
   "outputs": [
    {
     "data": {
      "text/plain": [
       "[1, '2', '3']"
      ]
     },
     "execution_count": 36,
     "metadata": {},
     "output_type": "execute_result"
    }
   ],
   "source": [
    "x  = [1, '2', '3', 4, 6, 9]\n",
    "x[0:3]  # Devuelve los valores de las posiciones 0, 1 y 2"
   ]
  },
  {
   "cell_type": "markdown",
   "metadata": {},
   "source": [
    "Las listas tienen muchos methods incluidos: `append`, `pop`, `sort` (solo para listas de números), `reverse`. Puedes encontrarlos todos [aquí](https://docs.python.org/3/tutorial/datastructures.html)"
   ]
  },
  {
   "cell_type": "markdown",
   "metadata": {},
   "source": [
    "#### <font color='D12828'> Ejercicio: </font>\n",
    "1. Crea una lista con números\n",
    "2. Usa el method `.sort()`\n",
    "3. Usa el pethod `.append()` y añade otro elemento a la lista\n"
   ]
  },
  {
   "cell_type": "code",
   "execution_count": 37,
   "metadata": {},
   "outputs": [
    {
     "name": "stdout",
     "output_type": "stream",
     "text": [
      "[-2, 1, 34, 99]\n",
      "[-2, 1, 34, 99, [3, 4]]\n"
     ]
    }
   ],
   "source": [
    "# Ejercicio\n",
    "x = [99, 1, -2, 34]\n",
    "x.sort()\n",
    "print(x)\n",
    "\n",
    "x.append([3,4])\n",
    "print(x)"
   ]
  },
  {
   "cell_type": "markdown",
   "metadata": {},
   "source": [
    "## Tuplas\n",
    "Las tuplas se crean usando paréntesis `()`. La principal diferencia entre una tupla y una lista es que las tuplas, una vez creadas, ya no pueden ser modificadas. __Son inmutables__:"
   ]
  },
  {
   "cell_type": "code",
   "execution_count": 38,
   "metadata": {},
   "outputs": [],
   "source": [
    "x = (1,2,3)"
   ]
  },
  {
   "cell_type": "code",
   "execution_count": 39,
   "metadata": {},
   "outputs": [],
   "source": [
    "# Devuelve error si intentamos ejecutar esto ya que estaríamos intentando modificar una tupla.\n",
    "# x[0] = 2  "
   ]
  },
  {
   "cell_type": "markdown",
   "metadata": {},
   "source": [
    "Para los demás aspectos (indexación, extraer sub-tuplas etc), las tuplas se comportan como una lista"
   ]
  },
  {
   "cell_type": "markdown",
   "metadata": {},
   "source": [
    "## Diccionarios\n",
    "Los diccionarios son una de las estructuras más versátiles de Python. Son colecciones no ordenadas de __pares clave-valor__, y como las listas, pueden almacenar cualquier información: números, strings, booleans, funciones..."
   ]
  },
  {
   "cell_type": "code",
   "execution_count": 40,
   "metadata": {},
   "outputs": [
    {
     "data": {
      "text/plain": [
       "1"
      ]
     },
     "execution_count": 40,
     "metadata": {},
     "output_type": "execute_result"
    }
   ],
   "source": [
    "x = {'clave1': 1, 'clave2': 2, 'clave3': 'tres', 'clave4': True, 'clave5': sum}\n",
    "\n",
    "x['clave1']  # Devuelve el valor asociado a la clave1"
   ]
  },
  {
   "cell_type": "markdown",
   "metadata": {},
   "source": [
    "Dado que los diccionarios no están ordenados, para acceder a un elemento, se usa su clave. Por tanto, __las claves de un diccionario son únicas__. Otra forma de crear un diccionario:"
   ]
  },
  {
   "cell_type": "code",
   "execution_count": 41,
   "metadata": {},
   "outputs": [],
   "source": [
    "x = dict(clave1=1, clave2=2, clave3='tres', clave4=True, clave5=5)"
   ]
  },
  {
   "cell_type": "markdown",
   "metadata": {},
   "source": [
    "#### <font color='D12828'> Ejercicio: </font>\n",
    "Prueba a crear un diccionario y utiliza los methods `.keys()` y `.values()`. ¿Qué devuelven?"
   ]
  },
  {
   "cell_type": "code",
   "execution_count": 42,
   "metadata": {},
   "outputs": [],
   "source": [
    "# Ejercicio\n"
   ]
  },
  {
   "cell_type": "markdown",
   "metadata": {},
   "source": [
    "### Exportando diccionarios\n",
    "\n",
    "Los diccionarios de Python tienen exactamente la misma estructura que los archivos json. Eso permite que se pueda importar / exportar diccionarios de python muy facilmente. Por ejemplo:"
   ]
  },
  {
   "cell_type": "code",
   "execution_count": 43,
   "metadata": {},
   "outputs": [],
   "source": [
    "import json\n",
    "\n",
    "with open('data.json', 'w') as fp:\n",
    "    json.dump(x, fp)"
   ]
  },
  {
   "cell_type": "code",
   "execution_count": 44,
   "metadata": {},
   "outputs": [],
   "source": [
    "with open('data.json') as json_file:\n",
    "    y = json.load(json_file)"
   ]
  },
  {
   "cell_type": "markdown",
   "metadata": {},
   "source": [
    "#### <font color='D12828'> Ejercicio: </font>\n",
    "\n",
    "Exporta el diccionario que creaste en el ejercicio anterior como un archivo `.json`"
   ]
  },
  {
   "cell_type": "code",
   "execution_count": 45,
   "metadata": {},
   "outputs": [],
   "source": [
    "# Ejercicio\n"
   ]
  },
  {
   "cell_type": "markdown",
   "metadata": {},
   "source": [
    "## Strings\n",
    "Antes comentamos que trabajar con strings en Python era muy cómodo, eso se debe a que tienen muchas funciones específicas. El tratar strings es algo que surge muy habitualmente en el análisis de datos, así que indaguemos un poco:"
   ]
  },
  {
   "cell_type": "code",
   "execution_count": 46,
   "metadata": {},
   "outputs": [
    {
     "name": "stdout",
     "output_type": "stream",
     "text": [
      "17\n"
     ]
    },
    {
     "data": {
      "text/plain": [
       "'Este '"
      ]
     },
     "execution_count": 46,
     "metadata": {},
     "output_type": "execute_result"
    }
   ],
   "source": [
    "x = 'Este ES mi string'\n",
    "\n",
    "# len devuelve el número de caracteres en el string\n",
    "print(len(x))\n",
    "x[0:5]"
   ]
  },
  {
   "cell_type": "code",
   "execution_count": 47,
   "metadata": {},
   "outputs": [
    {
     "name": "stdout",
     "output_type": "stream",
     "text": [
      "Sumando strings:  Este ES mi string aaaaa\n",
      "Multipicando strings:  Este ES mi stringEste ES mi stringEste ES mi string\n"
     ]
    }
   ],
   "source": [
    "# La suma de strings los concatena (igual que pasa con las listas)\n",
    "print('Sumando strings: ', x + ' aaaaa') \n",
    "\n",
    "# La multiplicación las repite\n",
    "print('Multipicando strings: ', x * 3)"
   ]
  },
  {
   "cell_type": "code",
   "execution_count": 48,
   "metadata": {},
   "outputs": [
    {
     "name": "stdout",
     "output_type": "stream",
     "text": [
      "ESTE ES MI STRING\n",
      "este es mi string\n",
      "Este es mi string\n"
     ]
    }
   ],
   "source": [
    "# Podemos ponerlos en mayusculas / minusculas etc\n",
    "print(x.upper())\n",
    "\n",
    "print(x.lower())\n",
    "\n",
    "print(x.capitalize())"
   ]
  },
  {
   "cell_type": "code",
   "execution_count": 49,
   "metadata": {},
   "outputs": [
    {
     "name": "stdout",
     "output_type": "stream",
     "text": [
      "8\n",
      "Este Platano mi string\n",
      "000Este ES mi string\n",
      "['Este', 'ES', 'mi', 'string']\n"
     ]
    }
   ],
   "source": [
    "print(x.find('mi'))  # Devuelve la posición en la que se encuentra el texto buscado\n",
    "\n",
    "print(x.replace('ES', 'Platano'))  # Sustituye el texto\n",
    "\n",
    "print(x.rjust(20, '0'))  # Añade ceros por la izquierda hasta llegar a la longitud indicada. \n",
    "\n",
    "print(x.split())  # Divide en palabras el string"
   ]
  },
  {
   "cell_type": "markdown",
   "metadata": {},
   "source": [
    "#### <font color='D12828'> Ejercicio: </font>\n",
    "\n",
    "Crea un string y prueba el funcionamiento de algunas de estas funciones"
   ]
  },
  {
   "cell_type": "code",
   "execution_count": 50,
   "metadata": {},
   "outputs": [],
   "source": [
    "# Ejercicio\n"
   ]
  },
  {
   "cell_type": "markdown",
   "metadata": {},
   "source": [
    "# Bucles\n",
    "___\n",
    "\n",
    "Veamos algunos ejemplos de cómo hacer bucles básicos. Recordemos para ello que la indentación es especialmente importante\n"
   ]
  },
  {
   "cell_type": "markdown",
   "metadata": {},
   "source": [
    "## If ... elif ... else\n",
    "\n",
    "La única posible diferencia con otros lenguages es la existencia de `elif` como diminutivo de `else if`"
   ]
  },
  {
   "cell_type": "code",
   "execution_count": 51,
   "metadata": {},
   "outputs": [
    {
     "name": "stdout",
     "output_type": "stream",
     "text": [
      "Pues será 0\n"
     ]
    }
   ],
   "source": [
    "x = 0\n",
    "\n",
    "if x < 0:\n",
    "    print('Negativo')\n",
    "elif x > 0:\n",
    "    print('Positivo')\n",
    "else:\n",
    "    print('Pues será 0')\n"
   ]
  },
  {
   "cell_type": "markdown",
   "metadata": {},
   "source": [
    "## While\n",
    "Para hacer un bucle `while` se necesita una condición a verificar. Cuando la condición sea falsa, el bucle parará."
   ]
  },
  {
   "cell_type": "code",
   "execution_count": 52,
   "metadata": {},
   "outputs": [
    {
     "name": "stdout",
     "output_type": "stream",
     "text": [
      "4\n"
     ]
    }
   ],
   "source": [
    "i = 0\n",
    "x = True\n",
    "\n",
    "while x == True:\n",
    "    i += 1\n",
    "    if(i == 4):\n",
    "        x = False\n",
    "\n",
    "print(i)"
   ]
  },
  {
   "cell_type": "markdown",
   "metadata": {},
   "source": [
    "## for\n",
    "Para hacer un bucle `for` simplemente necesitamos una variable en la que iterar. Lo más usado es la función `range(n)` que crea una lista de n números __empezando en 0__"
   ]
  },
  {
   "cell_type": "code",
   "execution_count": 53,
   "metadata": {},
   "outputs": [
    {
     "name": "stdout",
     "output_type": "stream",
     "text": [
      "range(0, 5)\n",
      "[0, 1, 2, 3, 4]\n"
     ]
    }
   ],
   "source": [
    "print(range(5))\n",
    "\n",
    "print(list(range(5)))"
   ]
  },
  {
   "cell_type": "code",
   "execution_count": 54,
   "metadata": {},
   "outputs": [
    {
     "name": "stdout",
     "output_type": "stream",
     "text": [
      "0 2 4 6 8 "
     ]
    }
   ],
   "source": [
    "# Bucle que devuelve los números pares\n",
    "for i in range(10):\n",
    "    if i % 2 == 0:\n",
    "        print(i, end=' ')"
   ]
  },
  {
   "cell_type": "markdown",
   "metadata": {},
   "source": [
    "#### <font color='D12828'> Ejercicio: </font>\n",
    "Haz un bucle `for` que devuelva el valor de $i^2$ solo para números impares"
   ]
  },
  {
   "cell_type": "code",
   "execution_count": 55,
   "metadata": {},
   "outputs": [],
   "source": [
    "# Ejercicio\n"
   ]
  },
  {
   "cell_type": "markdown",
   "metadata": {},
   "source": [
    "Pero no necesito un range() para usar un bocle for. Puedo iterar en cualquier cosa que sea iterable. Esto incluye listas, tuplas, strings..."
   ]
  },
  {
   "cell_type": "code",
   "execution_count": 56,
   "metadata": {},
   "outputs": [
    {
     "name": "stdout",
     "output_type": "stream",
     "text": [
      "B i g   a n a l y t i c s 1\n",
      "3\n",
      "4\n"
     ]
    }
   ],
   "source": [
    "for letter in 'Big analytics':\n",
    "    print(letter, end=' ')\n",
    "    \n",
    "for i in [1, 3, '4']:\n",
    "    print(i)"
   ]
  },
  {
   "cell_type": "markdown",
   "metadata": {},
   "source": [
    "### continue vs break\n",
    "Dentro de un bucle, \n",
    "* `continue` se salta lo que queda de bucle y pasa a la siguiente iteración\n",
    "* `break` sale completamente del bucle sin completar el resto de iteraciones"
   ]
  },
  {
   "cell_type": "code",
   "execution_count": 57,
   "metadata": {},
   "outputs": [
    {
     "name": "stdout",
     "output_type": "stream",
     "text": [
      "1 3 4 "
     ]
    }
   ],
   "source": [
    "for i in [1,2,3,4]:\n",
    "    if i == 2:\n",
    "        continue\n",
    "    print(i, end=' ')"
   ]
  },
  {
   "cell_type": "code",
   "execution_count": 58,
   "metadata": {},
   "outputs": [
    {
     "name": "stdout",
     "output_type": "stream",
     "text": [
      "1 2 "
     ]
    }
   ],
   "source": [
    "for i in [1,2,3,4]:\n",
    "    if i == 3:\n",
    "        break\n",
    "    print(i, end=' ')"
   ]
  },
  {
   "cell_type": "markdown",
   "metadata": {},
   "source": [
    "## Funciones extra\n",
    "\n",
    "### La función `zip`\n",
    "En conjunción con el bucle `for`, la función `zip` puede sernos muy útil, ya que permite que iteremos simultaneamente sobre más de un objeto. Si no son de la misma longitud, se queda con la longitud del más pequeño. Veamos un ejemplo:"
   ]
  },
  {
   "cell_type": "code",
   "execution_count": 59,
   "metadata": {},
   "outputs": [],
   "source": [
    "x = zip([1,2,3], ['a', 'b', 'c'])"
   ]
  },
  {
   "cell_type": "code",
   "execution_count": 60,
   "metadata": {},
   "outputs": [
    {
     "name": "stdout",
     "output_type": "stream",
     "text": [
      "Número 1. Letra a\n",
      "Número 2. Letra b\n",
      "Número 3. Letra c\n"
     ]
    }
   ],
   "source": [
    "for num, letter in x:\n",
    "    print(f'Número {num}. Letra {letter}')"
   ]
  },
  {
   "cell_type": "markdown",
   "metadata": {},
   "source": [
    "Es importante saber que después de usar un objeto de este tipo ya sea en una función o un bucle, el objeto se vacía. Si reejecutamos el mismo código de antes, ya no tendremos ningún output porque `x` no contiene nada."
   ]
  },
  {
   "cell_type": "code",
   "execution_count": 61,
   "metadata": {},
   "outputs": [],
   "source": [
    "for num, letter in x:\n",
    "    print(f'Número {num}. Letra {letter}')"
   ]
  },
  {
   "cell_type": "markdown",
   "metadata": {},
   "source": [
    "Si queremos que el objeto no se vacíe debemos convertirlo a lista:"
   ]
  },
  {
   "cell_type": "code",
   "execution_count": 62,
   "metadata": {},
   "outputs": [
    {
     "name": "stdout",
     "output_type": "stream",
     "text": [
      "Número 1. Letra a\n",
      "Número 2. Letra b\n",
      "Número 3. Letra c\n",
      "\n",
      "Siguiente ejecución del bucle\n",
      "\n",
      "Número 1. Letra a\n",
      "Número 2. Letra b\n",
      "Número 3. Letra c\n"
     ]
    }
   ],
   "source": [
    "x = list(zip([1,2,3], ['a', 'b', 'c']))\n",
    "\n",
    "for num, letter in x:\n",
    "    print(f'Número {num}. Letra {letter}')\n",
    "    \n",
    "print('\\nSiguiente ejecución del bucle\\n')\n",
    "\n",
    "for num, letter in x:\n",
    "    print(f'Número {num}. Letra {letter}')"
   ]
  },
  {
   "cell_type": "markdown",
   "metadata": {},
   "source": [
    "#### <font color='D12828'> Ejercicio: </font>\n",
    "1. Crea un diccionario con 3 elementos (los que sean)\n",
    "2. Crea una variable con las claves del diccionario y otra con los valores (pista: methods `.keys()` y `.values()`)\n",
    "3. Usa la función zip con los dos objetos anteriores\n",
    "4. Crea un bucle for que pinte el valor de las claves y los valores del diccionario"
   ]
  },
  {
   "cell_type": "code",
   "execution_count": 63,
   "metadata": {},
   "outputs": [],
   "source": [
    "# Ejercicio\n"
   ]
  },
  {
   "cell_type": "markdown",
   "metadata": {},
   "source": [
    "### La función `enumerate`\n",
    "También es muy interesante la función `enumerate` que permite hacer un bucle manteniendo el valor y el índice sobre el que iteramos:"
   ]
  },
  {
   "cell_type": "code",
   "execution_count": 64,
   "metadata": {},
   "outputs": [
    {
     "name": "stdout",
     "output_type": "stream",
     "text": [
      "0 a\n",
      "1 b\n",
      "2 True\n"
     ]
    }
   ],
   "source": [
    "for idx, val in enumerate(['a', 'b', True]):\n",
    "    print(idx, val)"
   ]
  },
  {
   "cell_type": "markdown",
   "metadata": {},
   "source": [
    "### List comprehension\n",
    "Se llama list comprehension a la opción de crear bucles sencillos en Python en una sola linea. La estructura básica al principio puede resultar un poco confusa, pero luego es muy intuitiva de usar:\n",
    "`[value for variable in iterable]`. Por ejemplo:"
   ]
  },
  {
   "cell_type": "code",
   "execution_count": 65,
   "metadata": {},
   "outputs": [
    {
     "data": {
      "text/plain": [
       "[1, 4, 49]"
      ]
     },
     "execution_count": 65,
     "metadata": {},
     "output_type": "execute_result"
    }
   ],
   "source": [
    "[x**2 for x in [1,2, 7]]"
   ]
  },
  {
   "cell_type": "code",
   "execution_count": 66,
   "metadata": {},
   "outputs": [],
   "source": [
    "lista = ['numero' + str(x) for x in [1,2,3,4,5]]"
   ]
  },
  {
   "cell_type": "markdown",
   "metadata": {},
   "source": [
    "Esto es equivalente al bucle `for`:"
   ]
  },
  {
   "cell_type": "code",
   "execution_count": 67,
   "metadata": {},
   "outputs": [
    {
     "name": "stdout",
     "output_type": "stream",
     "text": [
      "[1, 4, 49]\n"
     ]
    }
   ],
   "source": [
    "x = []\n",
    "for i in [1,2,7]:\n",
    "    x.append(i**2)\n",
    "print(x)"
   ]
  },
  {
   "cell_type": "markdown",
   "metadata": {},
   "source": [
    "En las list comprehension también es posible incluir clausulas `if`. La siguiente lista devuelve los números pares elevados al cuadrado."
   ]
  },
  {
   "cell_type": "code",
   "execution_count": 68,
   "metadata": {},
   "outputs": [
    {
     "data": {
      "text/plain": [
       "[36, 64]"
      ]
     },
     "execution_count": 68,
     "metadata": {},
     "output_type": "execute_result"
    }
   ],
   "source": [
    "[x**2 for x in range(10) if (x%2==0) and (x>4)]"
   ]
  },
  {
   "cell_type": "markdown",
   "metadata": {},
   "source": [
    "También es posible usar la misma estructura para generar diccionarios:"
   ]
  },
  {
   "cell_type": "code",
   "execution_count": 69,
   "metadata": {},
   "outputs": [
    {
     "data": {
      "text/plain": [
       "{'clave0': 0, 'clave1': 1, 'clave2': 4, 'clave3': 9, 'clave4': 16}"
      ]
     },
     "execution_count": 69,
     "metadata": {},
     "output_type": "execute_result"
    }
   ],
   "source": [
    "{'clave'+str(i): i**2 for i in range(5)}"
   ]
  },
  {
   "cell_type": "markdown",
   "metadata": {},
   "source": [
    "#### <font color='D12828'> Ejercicio: </font>\n",
    "1. Escribe una lista con números positivos y negativos. Haz una list comprehension que te devuelva los números que sean positivos\n",
    "2. Escribe una frase en minusculas y almacenala en una variable string. Haz una list comprehension que te devuelva cada letra de la frase, todas en mayusculas"
   ]
  },
  {
   "cell_type": "code",
   "execution_count": 70,
   "metadata": {},
   "outputs": [],
   "source": [
    "# Ejercicio\n"
   ]
  },
  {
   "cell_type": "markdown",
   "metadata": {},
   "source": [
    "# Funciones\n",
    "___\n",
    "\n",
    "Definir funciones en python es muy sencillo, para ello se usa el comando `def`"
   ]
  },
  {
   "cell_type": "code",
   "execution_count": 71,
   "metadata": {},
   "outputs": [
    {
     "name": "stdout",
     "output_type": "stream",
     "text": [
      "Help on function mi_funcion in module __main__:\n",
      "\n",
      "mi_funcion(a, b)\n",
      "    a: numero\n",
      "    b: numero\n",
      "\n"
     ]
    }
   ],
   "source": [
    "def mi_funcion(a, b):\n",
    "    \"\"\"\n",
    "    a: numero\n",
    "    b: numero\n",
    "    \"\"\"\n",
    "    return 2*a + b\n",
    "\n",
    "mi_funcion(10, 1)\n",
    "help(mi_funcion)"
   ]
  },
  {
   "cell_type": "markdown",
   "metadata": {},
   "source": [
    "Las funciones de Python pueden devolver más de un valor a la vez:"
   ]
  },
  {
   "cell_type": "code",
   "execution_count": 72,
   "metadata": {},
   "outputs": [
    {
     "name": "stdout",
     "output_type": "stream",
     "text": [
      "a:2, b:6, c:101\n"
     ]
    }
   ],
   "source": [
    "def mi_funcion2(a, b, c=1):\n",
    "    \"\"\"\n",
    "    Esta es la ayuda de mi función. Realmente no hace nada, \n",
    "    es para poner un ejemplo tonto\n",
    "    \"\"\"\n",
    "    return 2*a, b, 100+c\n",
    "\n",
    "a, b, c = mi_funcion2(a=1, b=6)\n",
    "\n",
    "resultado = mi_funcion2(a=1, b=6)\n",
    "\n",
    "print(f'a:{a}, b:{b}, c:{c}')"
   ]
  },
  {
   "cell_type": "markdown",
   "metadata": {},
   "source": [
    "Aunque si preferimos, podemos guardar todos los resultados en una variable y luego acceder a ellos:"
   ]
  },
  {
   "cell_type": "code",
   "execution_count": 73,
   "metadata": {},
   "outputs": [
    {
     "data": {
      "text/plain": [
       "2"
      ]
     },
     "execution_count": 73,
     "metadata": {},
     "output_type": "execute_result"
    }
   ],
   "source": [
    "resultado = mi_funcion2(1,2,3)\n",
    "\n",
    "resultado[0]"
   ]
  },
  {
   "cell_type": "markdown",
   "metadata": {},
   "source": [
    "Es __muy__ recomendable escribir un pequeño texto de ayuda de la función usando la notación de `\"\"\" \"\"\"` ya que este texto aparecerá si pedimos la ayuda de la función:"
   ]
  },
  {
   "cell_type": "code",
   "execution_count": 74,
   "metadata": {},
   "outputs": [
    {
     "data": {
      "text/plain": [
       "\u001b[1;31mSignature:\u001b[0m \u001b[0mmi_funcion2\u001b[0m\u001b[1;33m(\u001b[0m\u001b[0ma\u001b[0m\u001b[1;33m,\u001b[0m \u001b[0mb\u001b[0m\u001b[1;33m,\u001b[0m \u001b[0mc\u001b[0m\u001b[1;33m=\u001b[0m\u001b[1;36m1\u001b[0m\u001b[1;33m)\u001b[0m\u001b[1;33m\u001b[0m\u001b[1;33m\u001b[0m\u001b[0m\n",
       "\u001b[1;31mDocstring:\u001b[0m\n",
       "Esta es la ayuda de mi función. Realmente no hace nada, \n",
       "es para poner un ejemplo tonto\n",
       "\u001b[1;31mFile:\u001b[0m      c:\\users\\alvaromc317\\desktop\\introducción a python\\<ipython-input-72-fd07e5592f3e>\n",
       "\u001b[1;31mType:\u001b[0m      function\n"
      ]
     },
     "metadata": {},
     "output_type": "display_data"
    }
   ],
   "source": [
    "mi_funcion2?"
   ]
  },
  {
   "cell_type": "markdown",
   "metadata": {},
   "source": [
    "#### <font color='D12828'> Ejercicio: </font>\n",
    "\n",
    "1. Crear una funcion que reciba como input una lista de números y devuelva como output la suma de todos los números elevados al cuadrado\n",
    "\n",
    "2. Crea una función que dado un número n, devuelva los n primeros elementos de la sucesión de fibonacci:\n",
    "\n",
    "   $a_0=1$, $a_1=1$, $a_k=a_{k-1}+a_{k-2}$"
   ]
  },
  {
   "cell_type": "code",
   "execution_count": 75,
   "metadata": {},
   "outputs": [],
   "source": [
    "# Ejercicio\n"
   ]
  },
  {
   "cell_type": "markdown",
   "metadata": {},
   "source": [
    "## Funciones `Lambda`\n",
    "En Python también podemos crear funciones `Lambda`, que son funciones anonimas que se escriben en solo una linea:"
   ]
  },
  {
   "cell_type": "code",
   "execution_count": 76,
   "metadata": {},
   "outputs": [
    {
     "data": {
      "text/plain": [
       "3"
      ]
     },
     "execution_count": 76,
     "metadata": {},
     "output_type": "execute_result"
    }
   ],
   "source": [
    "suma = lambda x, y: x+y\n",
    "\n",
    "suma(1, 2)"
   ]
  },
  {
   "cell_type": "markdown",
   "metadata": {},
   "source": [
    "#### <font color='D12828'> Ejercicio: </font>\n",
    "\n",
    "1. Crea una función lambda para el producto entre dos números"
   ]
  },
  {
   "cell_type": "code",
   "execution_count": 77,
   "metadata": {},
   "outputs": [],
   "source": [
    "# Ejercicio\n"
   ]
  },
  {
   "cell_type": "markdown",
   "metadata": {},
   "source": [
    "# Final\n",
    "___\n",
    "Este es el final de la primera parte de las sesiones de introducción a Python. Si estás leyendo esto... ¡muchas gracias por aguantar hasta aquí! En la segunda parte veremos cómo importar librerías, y cómo trabajar con la librerías `NumPy` (de analisis matricial)."
   ]
  },
  {
   "cell_type": "markdown",
   "metadata": {},
   "source": [
    "![image.png](plots/goodbye_1.png)"
   ]
  }
 ],
 "metadata": {
  "kernelspec": {
   "display_name": "Python 3",
   "language": "python",
   "name": "python3"
  },
  "language_info": {
   "codemirror_mode": {
    "name": "ipython",
    "version": 3
   },
   "file_extension": ".py",
   "mimetype": "text/x-python",
   "name": "python",
   "nbconvert_exporter": "python",
   "pygments_lexer": "ipython3",
   "version": "3.8.5"
  }
 },
 "nbformat": 4,
 "nbformat_minor": 4
}
