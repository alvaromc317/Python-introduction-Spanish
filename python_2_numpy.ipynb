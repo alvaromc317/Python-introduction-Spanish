{
 "cells": [
  {
   "cell_type": "markdown",
   "metadata": {},
   "source": [
    "![image.png](plots/portada3.png)"
   ]
  },
  {
   "cell_type": "markdown",
   "metadata": {},
   "source": [
    "¡Bienvenidos a la segunda sesión del curso de introducción a Python! Aquí veremos:\n",
    "\n",
    "* Cómo instalar librerías en Python\n",
    "* Cómo trabajar con Numpy (la librería principal de análisis matricial)\n",
    "\n",
    "Al igual que en la primera parte, la documentación asociada a estas sesiones son dos libros, ambos disponibles de forma gratuita [aquí](https://jakevdp.github.io/pages/about.html):\n",
    "\n",
    "* A Whirlwind Tour of Python by Jake VanderPlas (O’Reilly). Copyright 2016 O’Reilly Media, Inc., 978-1-491-96465-1\n",
    "* The Python Data Science Handbook by Jake VanderPlas (O’Reilly). Copyright 2016 Jake VanderPlas, 978-1-491-91205-8.\n"
   ]
  },
  {
   "cell_type": "markdown",
   "metadata": {},
   "source": [
    "# Cómo instalar paquetes\n",
    "___\n"
   ]
  },
  {
   "cell_type": "markdown",
   "metadata": {},
   "source": [
    "En la sesión anterior comentamos brevemente la existencia del _Anaconda prompt_ y vimos cómo podíamos acceder a el en Windows, Mac o Linux. Es desde esta herramienta desde la que se instalan los paquetes en Python, para lo que se usan los gestores de paquetes de `pip` o de `conda`. No vamos a entrar aquí en ver las diferencias entre ambos. Baste decir que aunque `pip` es un poco más sencillo de usar, en general `conda` es más fiable. Para instalar un paquete, tendríamos que poner:\n",
    "\n",
    "* `pip`:"
   ]
  },
  {
   "cell_type": "raw",
   "metadata": {},
   "source": [
    "pip install package  #(Instala la última versión disponible del paquete)\n",
    "\n",
    "pip install package==1.2  #(Instala una versión concreta del paquete)"
   ]
  },
  {
   "cell_type": "markdown",
   "metadata": {},
   "source": [
    "* `conda`:"
   ]
  },
  {
   "cell_type": "raw",
   "metadata": {},
   "source": [
    "conda install package  #(Instala la última versión disponible del paquete)\n",
    "\n",
    "conda install package==1.2  #(Instala una versión concreta del paquete)"
   ]
  },
  {
   "cell_type": "markdown",
   "metadata": {},
   "source": [
    "En la página web de [Anaconda](https://anaconda.org/) podemos buscar paquetes específicos. Por ejemplo, si buscamos el paquete `NumPy` obtendremos el resultado de la imagen izquierda. Allí vemos varias opciones de descarga (lo que Anaconda llama _channels_, y el número de descargas que el paquete ha tenido desde cada canal. Se recomienda descargar los paquetes siempre que se pueda desde los canales de `conda`. En este caso elegimos `conda-forge`, lo que nos llevaría a la imagen derecha. Allí nos indican el comando que necesitaríamos para instalar el paquete, en este caso:"
   ]
  },
  {
   "cell_type": "raw",
   "metadata": {},
   "source": [
    "conda install -c conda-forge numpy  #-c indica el channel desde el que instalar el paquete"
   ]
  },
  {
   "cell_type": "markdown",
   "metadata": {},
   "source": [
    "![image.png](plots/instalar_paquete.png)"
   ]
  },
  {
   "cell_type": "markdown",
   "metadata": {},
   "source": [
    "### <font color='D12828'> Ejercicio: </font>\n",
    "\n",
    "Buscar en Anaconda cloud e instalar el paquete `plotnine`"
   ]
  },
  {
   "cell_type": "markdown",
   "metadata": {},
   "source": [
    "# Cómo cargar paquetes\n",
    "___\n",
    "\n",
    "Una vez el paquete está instalado, ya podremos cargarlo en Python para trabajar con el. Existen tres formas de cargar un paquete en Python:"
   ]
  },
  {
   "cell_type": "code",
   "execution_count": 1,
   "metadata": {},
   "outputs": [],
   "source": [
    "import numpy  # Carga el paquete numpy al completo\n",
    "\n",
    "import numpy as np  # Carga el paquete numpy pero lo renombra como np\n",
    "\n",
    "from numpy import linalg  # Carga una parte del paquete pero no el paquete entero"
   ]
  },
  {
   "cell_type": "markdown",
   "metadata": {},
   "source": [
    "Una vez el paquete está cargado, para acceder a las funciones del paquete se usa la notación del punto:"
   ]
  },
  {
   "cell_type": "code",
   "execution_count": 2,
   "metadata": {},
   "outputs": [
    {
     "data": {
      "text/plain": [
       "-0.9899924966004454"
      ]
     },
     "execution_count": 2,
     "metadata": {},
     "output_type": "execute_result"
    }
   ],
   "source": [
    "import math\n",
    "math.cos(3)"
   ]
  },
  {
   "cell_type": "markdown",
   "metadata": {},
   "source": [
    "Alternativamente, podríamos cargar todos los componentes del paquete usando '\\*' con lo que ya no necesitaríamos la notación del punto, pero __esto está desaconsejado excepto en casos puntuales__ ya que puede dar lugar a sobreescribir funciones de diferentes paquetes sin darnos cuenta:"
   ]
  },
  {
   "cell_type": "code",
   "execution_count": 3,
   "metadata": {},
   "outputs": [
    {
     "data": {
      "text/plain": [
       "-0.9899924966004454"
      ]
     },
     "execution_count": 3,
     "metadata": {},
     "output_type": "execute_result"
    }
   ],
   "source": [
    "from math import * \n",
    "cos(3)"
   ]
  },
  {
   "cell_type": "markdown",
   "metadata": {},
   "source": [
    "### <font color='D12828'> Ejercicio: </font>\n",
    "Escribe `sum([1, 2, 3], 5)`. Ahora escribe `from numpy import *` y vuelve a escribir la operación de antes. ¿Que está ocurriendo?"
   ]
  },
  {
   "cell_type": "code",
   "execution_count": 4,
   "metadata": {},
   "outputs": [],
   "source": [
    "# Ejercicio\n"
   ]
  },
  {
   "cell_type": "markdown",
   "metadata": {},
   "source": [
    "# `NumPy`\n",
    "___\n",
    "\n",
    "![image.png](plots/meme_numpy2.png)"
   ]
  },
  {
   "cell_type": "markdown",
   "metadata": {},
   "source": [
    "## Primeros pasos\n",
    "`NumPy` es _EL_ paquete de cálculo numérico y matricial de Python. Incluye todas las funciones para definir y operar con matrices, y algebra matricial. El paquete está escrito internamente en lenguaje C y está muy optimizado así que es muy rápido. Si una función está en numpy y en otro paquete, la de numpy será más rápida. El objeto básico de numpy son las arrays, que son similares a las listas de python pero solo pueden almacenar información de un tipo (enteros, floats etc) y pueden tener varias dimensiones."
   ]
  },
  {
   "cell_type": "code",
   "execution_count": 5,
   "metadata": {},
   "outputs": [
    {
     "name": "stdout",
     "output_type": "stream",
     "text": [
      "[1 2 3 4 5 6]\n"
     ]
    }
   ],
   "source": [
    "import numpy as np\n",
    "\n",
    "x = np.array([1,2,3,4,5,6])  # array unidimensional\n",
    "print(x)"
   ]
  },
  {
   "cell_type": "markdown",
   "metadata": {},
   "source": [
    "Para construir una matriz usamos una lista donde cada elemento de la lista es una fila de la matriz:"
   ]
  },
  {
   "cell_type": "code",
   "execution_count": 6,
   "metadata": {},
   "outputs": [
    {
     "name": "stdout",
     "output_type": "stream",
     "text": [
      "[[1 2 3]\n",
      " [4 5 6]\n",
      " [7 8 9]]\n"
     ]
    }
   ],
   "source": [
    "X = np.array([[1,2,3], [4,5,6], [7,8,9]])  # array bidimensional\n",
    "print(X)"
   ]
  },
  {
   "cell_type": "markdown",
   "metadata": {},
   "source": [
    "### <font color='D12828'> Ejercicio: </font>\n",
    "\n",
    "Crea una matriz de dos dimensiones con 2 filas y 3 columnas llamada `Y`"
   ]
  },
  {
   "cell_type": "code",
   "execution_count": 7,
   "metadata": {},
   "outputs": [],
   "source": [
    "# Ejercicio\n"
   ]
  },
  {
   "cell_type": "markdown",
   "metadata": {},
   "source": [
    "Por supuesto, las arrays de numpy también son objetos (todo en Python son objetos) y tienen sus propios atributos y methods:"
   ]
  },
  {
   "cell_type": "code",
   "execution_count": 8,
   "metadata": {},
   "outputs": [
    {
     "name": "stdout",
     "output_type": "stream",
     "text": [
      "Número de dimensiones:  2\n",
      "Número de elementos en cada dimensión:  (3, 3)\n",
      "Número de elementos en total:  9\n",
      "Tipo de datos que almacena:  int32\n"
     ]
    }
   ],
   "source": [
    "print('Número de dimensiones: ', X.ndim)\n",
    "print('Número de elementos en cada dimensión: ', X.shape)\n",
    "print('Número de elementos en total: ', X.size)\n",
    "print('Tipo de datos que almacena: ', X.dtype)"
   ]
  },
  {
   "cell_type": "markdown",
   "metadata": {},
   "source": [
    "### <font color='D12828'> Ejercicio: </font>\n",
    "\n",
    "Comprueba las dimensiones de la matriz `Y`"
   ]
  },
  {
   "cell_type": "code",
   "execution_count": 9,
   "metadata": {},
   "outputs": [],
   "source": [
    "# EJercicio\n"
   ]
  },
  {
   "cell_type": "markdown",
   "metadata": {},
   "source": [
    "Fijemonos en el último de los atributos, el tipo de datos que almacena `X` es `int32`, esto son números enteros de 32 bits. Esto es muy importante, como decíamos, numpy solo puede almacenar un tipo de datos en cada array. __Si este array es de números enteros, solo almacenará números enteros__. Si yo intento añadir un número que no sea entero, lo truncará."
   ]
  },
  {
   "cell_type": "code",
   "execution_count": 10,
   "metadata": {},
   "outputs": [
    {
     "name": "stdout",
     "output_type": "stream",
     "text": [
      "[[91  2  3]\n",
      " [ 4  5  6]\n",
      " [ 7  8  9]]\n"
     ]
    }
   ],
   "source": [
    "X[0, 0] = 91.87\n",
    "print(X)"
   ]
  },
  {
   "cell_type": "markdown",
   "metadata": {},
   "source": [
    "### Algunas funciones básicas"
   ]
  },
  {
   "cell_type": "code",
   "execution_count": 11,
   "metadata": {},
   "outputs": [],
   "source": [
    "X = X.T  # Traspone la matriz\n",
    "\n",
    "X2 = np.dot(X, X)  # multiplicación matricial\n",
    "\n",
    "X2 = X @ X  # También multiplicación matricial desde las últimas versiones de Python. \n",
    "\n",
    "x = np.zeros((2,2))  # Crea una matriz de ceros\n",
    "\n",
    "x = np.ones((1, 2))  # Crea un vector fila de unos\n",
    "\n",
    "x = np.arange(0, 10, 2) # Crea un vector con (inicio, fin, paso) donde se incluye el inicio pero no el fin.\n",
    "\n",
    "x = np.linspace(0, 10, 5) #  Crea un vector con (inicio, fin, num_datos) (con el fin incluido)\n",
    "\n",
    "x = np.eye(5)  # Crea una matriz identidad de tamaño 5\n",
    "\n",
    "x = np.random.rand(10)  # Genera 10 datos al azar de una distribución uniforme\n",
    "\n",
    "x = np.random.randint(0, 10, 5) # Genera 5 enteros al azar entre 0 y 10"
   ]
  },
  {
   "cell_type": "markdown",
   "metadata": {},
   "source": [
    "### <font color='D12828'> Ejercicio: </font>\n",
    "\n",
    "Dales un poco de uso a las funciones que acabamos de ver. \n",
    "1. Crea un array unidimensional que vaya de -10 a 10 y tenga 100 puntos\n",
    "2. Crea una matriz identidad de tamaño 6\n",
    "3. Crea un array de tamaño 15 de números al azar (usando la función `rand` o `randint`)"
   ]
  },
  {
   "cell_type": "code",
   "execution_count": 12,
   "metadata": {},
   "outputs": [],
   "source": [
    "# Ejercicio\n"
   ]
  },
  {
   "cell_type": "markdown",
   "metadata": {},
   "source": [
    "### <font color='D12828'> Ejercicio: </font>\n",
    "\n",
    "1. Genera un array `x` de 10 elementos. \n",
    "2. Extrae un sub-array con los primeros 3 elementos de `x`\n",
    "3. Prueba a modificar un elemento del sub-array y comprueba qué ocurre con `x`"
   ]
  },
  {
   "cell_type": "code",
   "execution_count": 13,
   "metadata": {},
   "outputs": [],
   "source": [
    "# Ejercicio\n"
   ]
  },
  {
   "cell_type": "markdown",
   "metadata": {},
   "source": [
    "### Extraer sub-arrays\n",
    "\n",
    "Cuando extraemos un sub-array lo que vemos es un subconjunto del array original, __no es una copia__. Es decir que __si modificamos el sub-array, el original también se modifica__."
   ]
  },
  {
   "cell_type": "markdown",
   "metadata": {},
   "source": [
    "Si lo que queremos es que el sub-array sea una copia (y no una visualización) podemos usar el method `.copy()`. Si ahora cambiamos el sub-array esto no afectará al array principal"
   ]
  },
  {
   "cell_type": "code",
   "execution_count": 14,
   "metadata": {},
   "outputs": [],
   "source": [
    "x_sub = x[0:3].copy()"
   ]
  },
  {
   "cell_type": "markdown",
   "metadata": {},
   "source": [
    "### Cambiando las dimensiones y concatenando"
   ]
  },
  {
   "cell_type": "markdown",
   "metadata": {},
   "source": [
    "El comando estrella para cambiar las dimensiones de un array es `reshape`:"
   ]
  },
  {
   "cell_type": "code",
   "execution_count": 15,
   "metadata": {},
   "outputs": [
    {
     "name": "stdout",
     "output_type": "stream",
     "text": [
      "Original array:  [0 1 2 3 4 5 6 7 8 9]\n",
      "Reshaped array: \n",
      " [[0 1]\n",
      " [2 3]\n",
      " [4 5]\n",
      " [6 7]\n",
      " [8 9]]\n"
     ]
    }
   ],
   "source": [
    "x = np.arange(10)\n",
    "\n",
    "print('Original array: ', x)\n",
    "print('Reshaped array: \\n', x.reshape((5,2)))\n"
   ]
  },
  {
   "cell_type": "markdown",
   "metadata": {},
   "source": [
    "Y si lo que queremos es concatenar dos matrices, pues tenemos `np.concatenate`."
   ]
  },
  {
   "cell_type": "code",
   "execution_count": 16,
   "metadata": {},
   "outputs": [
    {
     "data": {
      "text/plain": [
       "array([0, 1, 2, 3, 4, 5, 6, 7, 8, 9, 0, 1, 2, 3, 4, 5, 6, 7, 8, 9])"
      ]
     },
     "execution_count": 16,
     "metadata": {},
     "output_type": "execute_result"
    }
   ],
   "source": [
    "np.concatenate((x,x))"
   ]
  },
  {
   "cell_type": "markdown",
   "metadata": {},
   "source": [
    "Esta función tiene un parámetro opcional muy útil: `axis`. Es un parámetro que toma un valor entero y que indica el eje en el cual se concatena. Por ejemplo:"
   ]
  },
  {
   "cell_type": "code",
   "execution_count": 17,
   "metadata": {},
   "outputs": [
    {
     "name": "stdout",
     "output_type": "stream",
     "text": [
      "Concatenar en las filas: \n",
      " [[0 1]\n",
      " [2 3]\n",
      " [4 5]\n",
      " [6 7]\n",
      " [8 9]\n",
      " [0 1]\n",
      " [2 3]\n",
      " [4 5]\n",
      " [6 7]\n",
      " [8 9]] \n",
      "\n",
      "Concatenar en las columnas: \n",
      " [[0 1 0 1]\n",
      " [2 3 2 3]\n",
      " [4 5 4 5]\n",
      " [6 7 6 7]\n",
      " [8 9 8 9]] \n",
      "\n"
     ]
    }
   ],
   "source": [
    "x2 = x.reshape((5,2))\n",
    "\n",
    "print('Concatenar en las filas: \\n', np.concatenate((x2, x2), axis=0), '\\n')\n",
    "print('Concatenar en las columnas: \\n', np.concatenate((x2, x2), axis=1), '\\n')"
   ]
  },
  {
   "cell_type": "markdown",
   "metadata": {},
   "source": [
    "### <font color='D12828'> Ejercicio: </font>\n",
    "\n",
    "1. Crea un array de 20 elementos y transformalo usando `reshape` en una matriz con 10 filas y 2 columnas. Almacena esta matriz en la variable X3\n",
    "2. Prueba a concatenar la matrix X3 con el vector `x4=np.array([-10, -20])`. ¿Sabrías solucionar ese mensaje de error?"
   ]
  },
  {
   "cell_type": "code",
   "execution_count": 18,
   "metadata": {},
   "outputs": [],
   "source": [
    "# Ejercicio\n"
   ]
  },
  {
   "cell_type": "markdown",
   "metadata": {},
   "source": [
    "## `NumPy` vectorizado\n",
    "\n",
    "¿Que significa que numpy esté vectorizado?  Pues que podemos hacer cosas como esta: "
   ]
  },
  {
   "cell_type": "code",
   "execution_count": 19,
   "metadata": {},
   "outputs": [
    {
     "name": "stdout",
     "output_type": "stream",
     "text": [
      "x: \n",
      " [[0.34472516 0.75422709]\n",
      " [0.59782326 0.69724336]\n",
      " [0.03557418 0.10583646]] \n",
      "\n",
      "x+10: \n",
      " [[10.34472516 10.75422709]\n",
      " [10.59782326 10.69724336]\n",
      " [10.03557418 10.10583646]]\n"
     ]
    }
   ],
   "source": [
    "x = np.random.rand(6).reshape((3,2))\n",
    "\n",
    "print('x: \\n', x, '\\n')\n",
    "print(f'x+10: \\n', x + 10)"
   ]
  },
  {
   "cell_type": "markdown",
   "metadata": {},
   "source": [
    "Podemos hacer esto con:\n",
    "* Operaciones aritméticas básicas: `+`, `-`, `*`, `/`, `%`...\n",
    "* Operaciones con exponentes: `np.exp`, `np.power`, `np.log`...\n",
    "* Operaciones trigonométricas: `np.cos`, `np.sin`, `np.tan`..."
   ]
  },
  {
   "cell_type": "markdown",
   "metadata": {},
   "source": [
    "## Funciones descriptivas\n",
    "\n",
    "Numpy también incluye funciones para calcular medias, medianas etc, y todas incluyen el uso del parámetro opcional que vimos antes: `axis`, lo que permite hacer operaciones por filas, columnas..."
   ]
  },
  {
   "cell_type": "code",
   "execution_count": 20,
   "metadata": {},
   "outputs": [
    {
     "name": "stdout",
     "output_type": "stream",
     "text": [
      "[[ 7 12]\n",
      " [24 20]\n",
      " [13  1]\n",
      " [ 7 36]\n",
      " [12 20]\n",
      " [31 11]\n",
      " [29  9]\n",
      " [ 9 27]\n",
      " [37  3]\n",
      " [22 12]]\n"
     ]
    }
   ],
   "source": [
    "x = np.random.randint(0, 40, 20).reshape((10, 2))\n",
    "\n",
    "print(x)"
   ]
  },
  {
   "cell_type": "code",
   "execution_count": 21,
   "metadata": {},
   "outputs": [
    {
     "name": "stdout",
     "output_type": "stream",
     "text": [
      "Media:  17.1\n",
      "Media por columnas:  [19.1 15.1]\n",
      "Media por filas:  [ 9.5 22.   7.  21.5 16.  21.  19.  18.  20.  17. ]\n"
     ]
    }
   ],
   "source": [
    "print('Media: ', np.mean(x))\n",
    "print('Media por columnas: ', np.mean(x, axis=0))\n",
    "print('Media por filas: ', np.mean(x, axis=1))"
   ]
  },
  {
   "cell_type": "markdown",
   "metadata": {},
   "source": [
    "El comportamiento de `axis` puede ser un poco confuso. Este parámetro no indica la dimensión que queremos devolver, sino la que queremos agregar. Poner `axis=0` significa que agregaremos la información de las filas, así que en una matriz de dos dimensiones, eso nos devuelve la media por columnas. Lo mismo que acabamos de hacer con la media funciona con las siguientes funciones:"
   ]
  },
  {
   "cell_type": "code",
   "execution_count": 22,
   "metadata": {},
   "outputs": [
    {
     "data": {
      "text/plain": [
       "array([8.6, 7.8])"
      ]
     },
     "execution_count": 22,
     "metadata": {},
     "output_type": "execute_result"
    }
   ],
   "source": [
    "np.sum(x, axis=0)  # Suma\n",
    "\n",
    "np.prod(x, axis=0)  # Producto\n",
    "\n",
    "np.std(x, axis=0)  # Desviación típica\n",
    "\n",
    "np.var(x, axis=0)  # Varianza\n",
    "\n",
    "np.min(x, axis=0)  # Mínimo\n",
    "\n",
    "np.max(x, axis=0)  # Máximo\n",
    "\n",
    "np.argmin(x, axis=0)  # Posición que ocupa el mínimo\n",
    "\n",
    "np.argmax(x, axis=0)  # Posición que ocupa el máximo\n",
    "\n",
    "np.median(x, axis=0)  # Mediana\n",
    "\n",
    "np.quantile(x, 0.2, axis=0)  # Cuantil"
   ]
  },
  {
   "cell_type": "markdown",
   "metadata": {},
   "source": [
    "También tenemos las versiones `nan`, aptas para tratar arrays en los que haya datos ausentes, como `np.nanmean`"
   ]
  },
  {
   "cell_type": "markdown",
   "metadata": {},
   "source": [
    "### <font color='D12828'> Ejercicio: </font>\n",
    "\n",
    "Vamos a descargarnos un conjunto de datos sobre unas bodegas. La mayoría de conjuntos de datos disponibles en paquetes de Python se descargan en forma de diccionario, que suele contener una matriz de datos (`data`), un vector con la variable respuesta (`target`) e información extra sobre el conjunto de datos. Podemos ver todo lo que contiene el diccionario, recordemos, usando el comando `.keys()`. En este caso trabajaremos con un conjunto formado por 178 vinos en los que se midió información sobre su composición química y calidad (más información del conjunto [aquí](https://scikit-learn.org/stable/datasets/toy_dataset.html)). La primera columna del conjunto de datos es el \\% de alcohol. \n",
    "\n",
    "1. Calcula la media y la desviación típica del alcohol.\n",
    "2. Calcula la media de cada variable del conjunto de datos"
   ]
  },
  {
   "cell_type": "code",
   "execution_count": 23,
   "metadata": {},
   "outputs": [
    {
     "name": "stdout",
     "output_type": "stream",
     "text": [
      "['alcohol', 'malic_acid', 'ash', 'alcalinity_of_ash', 'magnesium', 'total_phenols', 'flavanoids', 'nonflavanoid_phenols', 'proanthocyanins', 'color_intensity', 'hue', 'od280/od315_of_diluted_wines', 'proline']\n"
     ]
    }
   ],
   "source": [
    "from sklearn.datasets import load_wine  # Importar función para descargar los datos\n",
    "data_dict = load_wine()\n",
    "\n",
    "data = data_dict['data']\n",
    "feature_names = data_dict['feature_names']\n",
    "\n",
    "alcohol = data[:,0]\n",
    "\n",
    "print(feature_names)"
   ]
  },
  {
   "cell_type": "code",
   "execution_count": 24,
   "metadata": {},
   "outputs": [],
   "source": [
    "# Calcula la media y la desviación típica\n"
   ]
  },
  {
   "cell_type": "markdown",
   "metadata": {},
   "source": [
    "También puede ser interesante ver una representación gráfica. Como la cantidad de alcohol en el vino es una variable numérica, la representaremos con un histograma. Veremos más adelante en detalle este paquete para hacer gráficos, pero por ahora:"
   ]
  },
  {
   "cell_type": "code",
   "execution_count": 25,
   "metadata": {},
   "outputs": [
    {
     "data": {
      "text/plain": [
       "Text(0.5, 1.0, '% de alcohol')"
      ]
     },
     "execution_count": 25,
     "metadata": {},
     "output_type": "execute_result"
    },
    {
     "data": {
      "image/png": "[encoded data removed]",
      "text/plain": [
       "<Figure size 576x396 with 1 Axes>"
      ]
     },
     "metadata": {},
     "output_type": "display_data"
    }
   ],
   "source": [
    "%matplotlib inline\n",
    "import matplotlib.pyplot as plt\n",
    "plt.style.use('seaborn')\n",
    "\n",
    "plt.hist(alcohol)\n",
    "plt.title('% de alcohol')"
   ]
  },
  {
   "cell_type": "markdown",
   "metadata": {},
   "source": [
    "## broadcasting"
   ]
  },
  {
   "cell_type": "markdown",
   "metadata": {},
   "source": [
    "Antes vimos que si tenemos una matriz podemos sumarle una constante que afectará a toda matriz. ¿Pero qué ocurre si lo que intentamos sumar es un vector? Aquí entra en juego el broadcasting:"
   ]
  },
  {
   "cell_type": "code",
   "execution_count": 26,
   "metadata": {},
   "outputs": [
    {
     "name": "stdout",
     "output_type": "stream",
     "text": [
      "Matriz X: \n",
      " [[0 1 2]\n",
      " [3 4 5]\n",
      " [6 7 8]] \n",
      "\n",
      "Vector a: \n",
      " [10 20 30] \n",
      "\n",
      "X+a: \n",
      " [[10 21 32]\n",
      " [13 24 35]\n",
      " [16 27 38]]\n"
     ]
    }
   ],
   "source": [
    "X = np.arange(0, 9).reshape((3,3))\n",
    "a = np.array([10, 20, 30])\n",
    "print('Matriz X: \\n', X, '\\n')\n",
    "print('Vector a: \\n', a, '\\n')\n",
    "print('X+a: \\n', X+a)"
   ]
  },
  {
   "cell_type": "markdown",
   "metadata": {},
   "source": [
    "Ojo, __este comportamiento es diferente del de otros lenguajes como `R`__, que harían la suma por filas y no por columnas. Pero la verdad que para gestionar bases de datos esto es muy cómodo. Una operación que se hace muy a menudo en estadística es la de __\"centrar\" los datos__ para que cada variable del conjunto de datos tenga media 0. Para ello, basta restar a cada columna de una variable, su media. Teniendo en cuenta el broadcasting de Python, esto es tan sencillo como hacer:"
   ]
  },
  {
   "cell_type": "code",
   "execution_count": 27,
   "metadata": {},
   "outputs": [
    {
     "data": {
      "text/plain": [
       "array([ 0.,  0., -0.,  0., -0., -0.,  0., -0., -0., -0.,  0.,  0., -0.])"
      ]
     },
     "execution_count": 27,
     "metadata": {},
     "output_type": "execute_result"
    }
   ],
   "source": [
    "data_centered = data - np.mean(data, axis=0)\n",
    "\n",
    "# Comprobemos que ahora están centrados\n",
    "np.round(np.mean(data_centered, axis=0), 3)"
   ]
  },
  {
   "cell_type": "markdown",
   "metadata": {},
   "source": [
    "Pues ya los tenemos centrados. ¿Pero y que pasa si intentamos sumar dos vectores  en los que no cuadren las dimensiones?"
   ]
  },
  {
   "cell_type": "code",
   "execution_count": 28,
   "metadata": {},
   "outputs": [
    {
     "name": "stdout",
     "output_type": "stream",
     "text": [
      "[10 20 30] \n",
      "\n",
      "[[10]\n",
      " [20]\n",
      " [30]]\n"
     ]
    }
   ],
   "source": [
    "b = a.reshape((3,1))\n",
    "print(a, '\\n')\n",
    "print(b)"
   ]
  },
  {
   "cell_type": "code",
   "execution_count": 29,
   "metadata": {},
   "outputs": [
    {
     "data": {
      "text/plain": [
       "array([[20, 30, 40],\n",
       "       [30, 40, 50],\n",
       "       [40, 50, 60]])"
      ]
     },
     "execution_count": 29,
     "metadata": {},
     "output_type": "execute_result"
    }
   ],
   "source": [
    "a + b"
   ]
  },
  {
   "cell_type": "markdown",
   "metadata": {},
   "source": [
    "Veamos una imagen que explica lo que está haciendo Python (la imagen original está disponible en el libro Python Data Science Handbook citado en las referencias)"
   ]
  },
  {
   "cell_type": "markdown",
   "metadata": {},
   "source": [
    "![image.png](plots/broadcasting.png)"
   ]
  },
  {
   "cell_type": "markdown",
   "metadata": {},
   "source": [
    "El proceso del broadcasting es siempre el mismo:\n",
    "\n",
    "1. Python estudia las dimensiones de los dos objetos que queremos sumar. \n",
    "    * En este caso `a` tiene dimensión (3), es un array de una dimensión\n",
    "    * `b` tiene dimensión (3, 1), es un vector columna\n",
    "2. Python añade unos por la izquierda en las dimensiones de los objetos hasta que todos sean de la misma dimensión. \n",
    "    * En este caso, añade un 1 al vector `a` que pasa a tener dimensiones (1, 3)\n",
    "3. Python compara la primera dimensión de cada objeto, si no cuadran, y si uno de los objetos tiene valor 1 en esa dimensión, extiende ese objeto hasta igualar la dimensión del otro.\n",
    "    * En este caso, compara el vector `a` (1,3) con b (3, 1), y extiende el vector `a` para que la primera dimensión cuadre: `a` pasa a ser una matriz (3, 3)\n",
    "4. Python hace el mismo proceso con cada dimensión.\n",
    "    * En este caso, compara la segunda dimensión, ve que `a` tiene 3 columnas, pero `b`solo 1, así que extiende `b` y lo convierte en una matriz (3,3)\n",
    "5. Python opera con las dos matrices."
   ]
  },
  {
   "cell_type": "markdown",
   "metadata": {},
   "source": [
    "### <font color='D12828'> Ejercicio: </font>\n",
    "\n",
    "Estandariza el conjunto de datos de vinos para que tengan media 0 y desviación típica 1."
   ]
  },
  {
   "cell_type": "code",
   "execution_count": 30,
   "metadata": {},
   "outputs": [],
   "source": [
    "# Ejercicio\n"
   ]
  },
  {
   "cell_type": "markdown",
   "metadata": {},
   "source": [
    "## Masks y bools"
   ]
  },
  {
   "cell_type": "markdown",
   "metadata": {},
   "source": [
    "Vamos a cargar un CSV con la información de los precios del bitcoin a lo largo del 2020. Para ello usaremos el paquete `pandas` que veremos más adelante."
   ]
  },
  {
   "cell_type": "code",
   "execution_count": 31,
   "metadata": {},
   "outputs": [],
   "source": [
    "import pandas as pd\n",
    "\n",
    "btc_usd = pd.read_csv('data/BTC-USD_2020.csv')['Adj Close'].values"
   ]
  },
  {
   "cell_type": "markdown",
   "metadata": {},
   "source": [
    "Veamos primero qué pinta tienen estos datos:"
   ]
  },
  {
   "cell_type": "code",
   "execution_count": 32,
   "metadata": {},
   "outputs": [
    {
     "data": {
      "text/plain": [
       "[<matplotlib.lines.Line2D at 0x1d2775ef190>]"
      ]
     },
     "execution_count": 32,
     "metadata": {},
     "output_type": "execute_result"
    },
    {
     "data": {
      "image/png": "[encoded data removed]",
      "text/plain": [
       "<Figure size 576x396 with 1 Axes>"
      ]
     },
     "metadata": {},
     "output_type": "display_data"
    }
   ],
   "source": [
    "plt.plot(btc_usd)"
   ]
  },
  {
   "cell_type": "markdown",
   "metadata": {},
   "source": [
    "El masking nos permite responder preguntas como: ¿cuantos días el precio estuvo por encima de los 10.000 dolares en el año 2020? "
   ]
  },
  {
   "cell_type": "code",
   "execution_count": 33,
   "metadata": {},
   "outputs": [
    {
     "name": "stdout",
     "output_type": "stream",
     "text": [
      "EL bitcoin estuvo 165 por encima de los 10.000$\n"
     ]
    }
   ],
   "source": [
    "dias_mas_10000 = np.sum(btc_usd > 10000)\n",
    "\n",
    "print(f'EL bitcoin estuvo {dias_mas_10000} por encima de los 10.000$')"
   ]
  },
  {
   "cell_type": "markdown",
   "metadata": {},
   "source": [
    "Aquí hemos definido una \"máscara\", un booleano que devuelve `True` en aquellos días en los que el precio fue mayor de 10000 y `False` en el resto, y después selecciona solo aquellas observaciones que sean `True` También podemos plantearnos preguntas más complejas. Por ejemplo, ¿durante cuantos días estuvo el precio entre 10.000 y 20.000 dolares?"
   ]
  },
  {
   "cell_type": "code",
   "execution_count": 34,
   "metadata": {},
   "outputs": [
    {
     "data": {
      "text/plain": [
       "146"
      ]
     },
     "execution_count": 34,
     "metadata": {},
     "output_type": "execute_result"
    }
   ],
   "source": [
    "np.sum((btc_usd > 10000) & (btc_usd < 20000))"
   ]
  },
  {
   "cell_type": "markdown",
   "metadata": {},
   "source": [
    "Y seguro que aquí alguien tiene la tentación. ¿Y porque usar `&` pudiendo usar `and`, que es mucho más natural? En numpy, el uso de `and`, `or` etc hacen referencia al comportamiento de todo el array, y no del array elemento a elemento. Si ejecutasemos la expresión anterior usando `and` tendríamos un mensaje de error. Para hacer comparaciones elemento a elemento se usan los operadores `&` (and), `|`  (or), `^` (xor), `~` (not). "
   ]
  },
  {
   "cell_type": "markdown",
   "metadata": {},
   "source": [
    "### <font color='D12828'> Ejercicio: </font>\n",
    "\n",
    "¿Durante cuantos días tuvo el bitcoin un valor entre 20000 y 30000 dólares?"
   ]
  },
  {
   "cell_type": "code",
   "execution_count": 35,
   "metadata": {},
   "outputs": [],
   "source": [
    "# Ejercicio\n"
   ]
  },
  {
   "cell_type": "markdown",
   "metadata": {},
   "source": [
    "Calculemos el precio medio del bitcoin en la primera mitad del año:"
   ]
  },
  {
   "cell_type": "code",
   "execution_count": 36,
   "metadata": {},
   "outputs": [
    {
     "name": "stdout",
     "output_type": "stream",
     "text": [
      "El precio medio del Bitcoin la primera mitad del año fue de 8474.21 dólares\n"
     ]
    }
   ],
   "source": [
    "days = np.arange(365)\n",
    "\n",
    "mean_price = np.mean(btc_usd[days < 181])  # 181 de 365 es el día 1 de Julio\n",
    "\n",
    "print(f'El precio medio del Bitcoin la primera mitad del año fue de {np.round(mean_price, 2)} dólares')"
   ]
  },
  {
   "cell_type": "markdown",
   "metadata": {},
   "source": [
    "### <font color='D12828'> Ejercicio: </font>\n",
    "\n",
    "Calcula la mediana del precio del bitcoin en los últimos 3 meses del año"
   ]
  },
  {
   "cell_type": "code",
   "execution_count": 37,
   "metadata": {},
   "outputs": [],
   "source": [
    "# Ejercicio\n"
   ]
  },
  {
   "cell_type": "markdown",
   "metadata": {},
   "source": [
    "# Final\n",
    "___\n",
    "\n",
    "¿Sigues por aquí? ¡Genial!, en la siguiente libreta veremos cómo trabajar con matplotlib para representar gráficamente las variables de nuestros conjuntos de datos., así que _stay tuned_\n",
    "\n",
    "![image.png](plots/goodbye_1.png)"
   ]
  }
 ],
 "metadata": {
  "kernelspec": {
   "display_name": "Python 3",
   "language": "python",
   "name": "python3"
  },
  "language_info": {
   "codemirror_mode": {
    "name": "ipython",
    "version": 3
   },
   "file_extension": ".py",
   "mimetype": "text/x-python",
   "name": "python",
   "nbconvert_exporter": "python",
   "pygments_lexer": "ipython3",
   "version": "3.8.5"
  }
 },
 "nbformat": 4,
 "nbformat_minor": 4
}
